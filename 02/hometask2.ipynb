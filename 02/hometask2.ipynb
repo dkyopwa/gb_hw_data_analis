{
 "cells": [
  {
   "cell_type": "markdown",
   "id": "4ac3e435",
   "metadata": {},
   "source": [
    "# Hometask 2"
   ]
  },
  {
   "cell_type": "markdown",
   "id": "0b1749da",
   "metadata": {},
   "source": [
    "Постройте график зависимости весов всех признаков от lambda в L2-регуляризации на основе данных из урока."
   ]
  },
  {
   "cell_type": "code",
   "execution_count": 1,
   "id": "4b0e8e7f",
   "metadata": {},
   "outputs": [],
   "source": [
    "import numpy as np\n",
    "import matplotlib.pyplot as plt"
   ]
  },
  {
   "cell_type": "code",
   "execution_count": 2,
   "id": "6ea09a13",
   "metadata": {},
   "outputs": [],
   "source": [
    "X = np.array([[1, 1, 1, 1, 1, 1, 1, 1, 1, 1],\n",
    "              [1, 1, 2, 5, 3, 0, 5, 10, 1, 2],\n",
    "              [500, 700, 750, 600, 1450, 800, 1500, 2000, 450, 1000],\n",
    "              [1, 1, 2, 1, 2, 1, 3, 3, 1, 2]])"
   ]
  },
  {
   "cell_type": "code",
   "execution_count": 3,
   "id": "40243af9",
   "metadata": {},
   "outputs": [],
   "source": [
    "y = [45, 55, 50, 55, 60, 35, 75, 80, 50, 60]"
   ]
  },
  {
   "cell_type": "code",
   "execution_count": 5,
   "id": "6c1a4942",
   "metadata": {},
   "outputs": [
    {
     "data": {
      "text/plain": [
       "(4, 10)"
      ]
     },
     "execution_count": 5,
     "metadata": {},
     "output_type": "execute_result"
    }
   ],
   "source": [
    "X.shape"
   ]
  },
  {
   "cell_type": "code",
   "execution_count": 9,
   "id": "00eef981",
   "metadata": {},
   "outputs": [
    {
     "data": {
      "text/plain": [
       "array([[1.00e+00, 1.00e+00, 1.00e+00, 1.00e+00, 1.00e+00, 1.00e+00,\n",
       "        1.00e+00, 1.00e+00, 1.00e+00, 1.00e+00],\n",
       "       [1.00e+00, 1.00e+00, 2.00e+00, 5.00e+00, 3.00e+00, 0.00e+00,\n",
       "        5.00e+00, 1.00e+01, 1.00e+00, 2.00e+00],\n",
       "       [5.00e+02, 7.00e+02, 7.50e+02, 6.00e+02, 1.45e+03, 8.00e+02,\n",
       "        1.50e+03, 2.00e+03, 4.50e+02, 1.00e+03],\n",
       "       [1.00e+00, 1.00e+00, 2.00e+00, 1.00e+00, 2.00e+00, 1.00e+00,\n",
       "        3.00e+00, 3.00e+00, 1.00e+00, 2.00e+00]])"
      ]
     },
     "execution_count": 9,
     "metadata": {},
     "output_type": "execute_result"
    }
   ],
   "source": [
    "X_norm = X.copy()\n",
    "X_norm = X_norm.astype(np.float64)\n",
    "X_norm"
   ]
  },
  {
   "cell_type": "code",
   "execution_count": 10,
   "id": "b3226609",
   "metadata": {},
   "outputs": [
    {
     "data": {
      "text/plain": [
       "array([[1.        , 1.        , 1.        , 1.        , 1.        ,\n",
       "        1.        , 1.        , 1.        , 1.        , 1.        ],\n",
       "       [0.1       , 0.1       , 0.2       , 0.5       , 0.3       ,\n",
       "        0.        , 0.5       , 1.        , 0.1       , 0.2       ],\n",
       "       [0.03225806, 0.16129032, 0.19354839, 0.09677419, 0.64516129,\n",
       "        0.22580645, 0.67741935, 1.        , 0.        , 0.35483871],\n",
       "       [0.        , 0.        , 0.5       , 0.        , 0.5       ,\n",
       "        0.        , 1.        , 1.        , 0.        , 0.5       ]])"
      ]
     },
     "execution_count": 10,
     "metadata": {},
     "output_type": "execute_result"
    }
   ],
   "source": [
    "for i in range(X.shape[0]):\n",
    "    if X[i].max() - X[i].min() > 1:\n",
    "        X_norm[i] = (X[i] - X[i].min()) / (X[i].max() - X[i].min())\n",
    "X_norm"
   ]
  },
  {
   "cell_type": "code",
   "execution_count": 11,
   "id": "c3e7fb5d",
   "metadata": {},
   "outputs": [],
   "source": [
    "def calc_mse(y, y_pred):\n",
    "    err = np.mean((y - y_pred)**2)\n",
    "    return err"
   ]
  },
  {
   "cell_type": "code",
   "execution_count": 20,
   "id": "6e750679",
   "metadata": {},
   "outputs": [],
   "source": [
    "def eval_model_reg2(X, y, iterations, alpha=1e-4, lambda_=1e-8, trace=False):\n",
    "    np.random.seed(42)\n",
    "    W = np.random.randn(X.shape[0])\n",
    "    n = X.shape[1]\n",
    "    for i in range(1, iterations+1):\n",
    "        y_pred = np.dot(W, X)\n",
    "        err = calc_mse(y, y_pred)\n",
    "        W -= alpha * (1/n * 2 * np.dot((y_pred - y), X.T) + lambda_ * W) \n",
    "        if trace and i % (iterations / 10) == 0:\n",
    "            print(i, W, err)\n",
    "    return W"
   ]
  },
  {
   "cell_type": "code",
   "execution_count": 21,
   "id": "8e570e63",
   "metadata": {},
   "outputs": [
    {
     "name": "stdout",
     "output_type": "stream",
     "text": [
      "500 [43.59502924 13.40613238 11.65533635 13.70683373] 28.722811684789935\n",
      "1000 [44.14183914 14.79580763  9.85704939 13.04292018] 27.461741193122414\n",
      "1500 [44.18252202 16.11940286  8.60882509 13.03997912] 26.794577928840333\n",
      "2000 [44.17157978 17.19601141  7.54375761 13.18128951] 26.32918222205044\n",
      "2500 [44.1626093  18.05700452  6.60251625 13.37806432] 25.99389181025639\n",
      "3000 [44.15976962 18.74758086  5.7660692  13.60211885] 25.746847151185847\n",
      "3500 [44.16169745 19.30495125  5.02186998 13.83793141] 25.561401186487103\n",
      "4000 [44.16684832 19.75795052  4.35941321 14.0752824 ] 25.420092235378302\n",
      "4500 [44.17403589 20.12876512  3.76951165 14.30733157] 25.311145153864878\n",
      "5000 [44.18240109 20.4344927   3.24406653 14.52963384] 25.22639087872134\n"
     ]
    }
   ],
   "source": [
    "W = eval_model_reg2(X_norm, y, iterations=5000, alpha=1e-2, lambda_=1e-4, trace=True)"
   ]
  },
  {
   "cell_type": "code",
   "execution_count": 33,
   "id": "f91276db",
   "metadata": {},
   "outputs": [
    {
     "data": {
      "text/plain": [
       "[array([41.90113071, 14.71005754, 10.3305894 , 13.11920234]),\n",
       " array([43.92613513, 19.18254491,  4.93931674, 14.0741725 ]),\n",
       " array([44.15864448, 20.30685112,  3.41924556, 14.48073331]),\n",
       " array([44.18240109, 20.4344927 ,  3.24406653, 14.52963384]),\n",
       " array([44.18478224, 20.4474259 ,  3.22628913, 14.53461748]),\n",
       " array([44.18502041, 20.44872093,  3.22450876, 14.53511679])]"
      ]
     },
     "execution_count": 33,
     "metadata": {},
     "output_type": "execute_result"
    }
   ],
   "source": [
    "lambdas = [1e-1, 1e-2, 1e-3, 1e-4, 1e-5, 1e-6]\n",
    "Ws = list()\n",
    "\n",
    "for l_ in lambdas:\n",
    "    Ws.append(eval_model_reg2(X_norm, y, iterations=5000, alpha=1e-2, lambda_=l_))\n",
    "\n",
    "Ws"
   ]
  },
  {
   "cell_type": "code",
   "execution_count": 46,
   "id": "df38ed6d",
   "metadata": {},
   "outputs": [
    {
     "data": {
      "text/plain": [
       "<matplotlib.legend.Legend at 0x7f4a20d6b4c0>"
      ]
     },
     "execution_count": 46,
     "metadata": {},
     "output_type": "execute_result"
    },
    {
     "data": {
      "image/png": "[encoded data removed]",
      "text/plain": [
       "<Figure size 720x432 with 1 Axes>"
      ]
     },
     "metadata": {
      "needs_background": "light"
     },
     "output_type": "display_data"
    }
   ],
   "source": [
    "plt.figure(figsize=(10, 6))\n",
    "\n",
    "for i, w in enumerate(Ws):\n",
    "    plt.plot([lambdas[i] for _ in range(len(w))], w, label='W{}'.format(i), marker='o')\n",
    "\n",
    "plt.xscale(value='log')\n",
    "\n",
    "plt.xlabel('lambda')\n",
    "plt.ylabel('W')\n",
    "plt.legend()"
   ]
  },
  {
   "cell_type": "code",
   "execution_count": 47,
   "id": "4b266280",
   "metadata": {},
   "outputs": [
    {
     "data": {
      "text/plain": [
       "<matplotlib.legend.Legend at 0x7f4a202fcb50>"
      ]
     },
     "execution_count": 47,
     "metadata": {},
     "output_type": "execute_result"
    },
    {
     "data": {
      "image/png": "[encoded data removed]",
      "text/plain": [
       "<Figure size 720x432 with 1 Axes>"
      ]
     },
     "metadata": {
      "needs_background": "light"
     },
     "output_type": "display_data"
    }
   ],
   "source": [
    "plt.figure(figsize=(10, 6))\n",
    "\n",
    "for i, w in enumerate(Ws):\n",
    "    plt.plot(w, [lambdas[i] for _ in range(len(w))], label='W{}'.format(i), marker='o')\n",
    "\n",
    "plt.xscale(value='log')\n",
    "\n",
    "plt.ylabel('lambda')\n",
    "plt.xlabel('W')\n",
    "plt.legend()"
   ]
  },
  {
   "cell_type": "code",
   "execution_count": 38,
   "id": "e1b0fec1",
   "metadata": {},
   "outputs": [],
   "source": [
    "def calc_std_fit(x):\n",
    "    res = (x - x.mean()) / x.std()\n",
    "    return res"
   ]
  },
  {
   "cell_type": "code",
   "execution_count": 39,
   "id": "84ce11ef",
   "metadata": {},
   "outputs": [],
   "source": [
    "X_st = X.copy().astype(np.float64)\n",
    "X1_mean = X[1].mean()\n",
    "X1_std = X[1].std()"
   ]
  },
  {
   "cell_type": "code",
   "execution_count": 40,
   "id": "cd4e35df",
   "metadata": {},
   "outputs": [
    {
     "data": {
      "text/plain": [
       "array([[ 1.        ,  1.        ,  1.        ,  1.        ,  1.        ,\n",
       "         1.        ,  1.        ,  1.        ,  1.        ,  1.        ],\n",
       "       [-0.70710678, -0.70710678, -0.35355339,  0.70710678,  0.        ,\n",
       "        -1.06066017,  0.70710678,  2.47487373, -0.70710678, -0.35355339],\n",
       "       [-0.97958969, -0.56713087, -0.46401617, -0.77336028,  0.97958969,\n",
       "        -0.36090146,  1.08270439,  2.11385144, -1.08270439,  0.05155735],\n",
       "       [-0.89625816, -0.89625816,  0.38411064, -0.89625816,  0.38411064,\n",
       "        -0.89625816,  1.66447944,  1.66447944, -0.89625816,  0.38411064]])"
      ]
     },
     "execution_count": 40,
     "metadata": {},
     "output_type": "execute_result"
    }
   ],
   "source": [
    "for i in range(X.shape[0]):\n",
    "    if X[i].max() - X[i].min() > 1:\n",
    "        X_st[i] = calc_std_fit(X[i])\n",
    "X_st"
   ]
  },
  {
   "cell_type": "code",
   "execution_count": 42,
   "id": "08591d4b",
   "metadata": {},
   "outputs": [
    {
     "data": {
      "text/plain": [
       "[array([53.80952381,  5.73058911,  0.98368306,  5.51609942]),\n",
       " array([56.21890547,  6.23067581, -0.16462974,  6.42092637]),\n",
       " array([56.47176412,  6.29561264, -0.33623812,  6.55564816]),\n",
       " array([56.49717514,  6.30231751, -0.35424091,  6.56978425]),\n",
       " array([56.4997175 ,  6.3029902 , -0.35605002,  6.57120483]),\n",
       " array([56.49997175,  6.30305749, -0.35623102,  6.57134696])]"
      ]
     },
     "execution_count": 42,
     "metadata": {},
     "output_type": "execute_result"
    }
   ],
   "source": [
    "lambdas = [1e-1, 1e-2, 1e-3, 1e-4, 1e-5, 1e-6]\n",
    "Ws = list()\n",
    "\n",
    "for l_ in lambdas:\n",
    "    Ws.append(eval_model_reg2(X_st, y, iterations=5000, alpha=1e-2, lambda_=l_))\n",
    "\n",
    "Ws"
   ]
  },
  {
   "cell_type": "code",
   "execution_count": 48,
   "id": "dd98d013",
   "metadata": {},
   "outputs": [
    {
     "data": {
      "text/plain": [
       "<matplotlib.legend.Legend at 0x7f4a20243130>"
      ]
     },
     "execution_count": 48,
     "metadata": {},
     "output_type": "execute_result"
    },
    {
     "data": {
      "image/png": "[encoded data removed]",
      "text/plain": [
       "<Figure size 720x432 with 1 Axes>"
      ]
     },
     "metadata": {
      "needs_background": "light"
     },
     "output_type": "display_data"
    }
   ],
   "source": [
    "plt.figure(figsize=(10, 6))\n",
    "\n",
    "for i, w in enumerate(Ws):\n",
    "    plt.plot([lambdas[i] for _ in range(len(w))], w, label='W{}'.format(i), marker='o')\n",
    "\n",
    "plt.xscale(value='log')\n",
    "\n",
    "plt.xlabel('lambda')\n",
    "plt.ylabel('W')\n",
    "plt.legend()"
   ]
  },
  {
   "cell_type": "code",
   "execution_count": 49,
   "id": "661328d2",
   "metadata": {},
   "outputs": [
    {
     "data": {
      "text/plain": [
       "<matplotlib.legend.Legend at 0x7f4a200b4730>"
      ]
     },
     "execution_count": 49,
     "metadata": {},
     "output_type": "execute_result"
    },
    {
     "data": {
      "image/png": "[encoded data removed]",
      "text/plain": [
       "<Figure size 720x432 with 1 Axes>"
      ]
     },
     "metadata": {
      "needs_background": "light"
     },
     "output_type": "display_data"
    }
   ],
   "source": [
    "plt.figure(figsize=(10, 6))\n",
    "\n",
    "for i, w in enumerate(Ws):\n",
    "    plt.plot(w, [lambdas[i] for _ in range(len(w))], label='W{}'.format(i), marker='o')\n",
    "\n",
    "plt.xscale(value='log')\n",
    "\n",
    "plt.ylabel('lambda')\n",
    "plt.xlabel('W')\n",
    "plt.legend()"
   ]
  },
  {
   "cell_type": "markdown",
   "id": "60a0ef92",
   "metadata": {},
   "source": [
    "2. Можно ли к одному и тому же признаку применить сразу и нормализацию, и стандартизацию?"
   ]
  },
  {
   "cell_type": "markdown",
   "id": "61b63434",
   "metadata": {},
   "source": [
    "Можно. Если нормализация, а потом стандартизация, то значения будут в диапазоне [0,1], если наоборот - [-0.5,0.5]"
   ]
  },
  {
   "cell_type": "markdown",
   "id": "c5ce3d6f",
   "metadata": {},
   "source": [
    "3. Напишите функцию наподобие eval_model_reg2, но для применения L1-регуляризации."
   ]
  },
  {
   "cell_type": "markdown",
   "id": "b69ffe4b",
   "metadata": {},
   "source": [
    "L1 регуляризация"
   ]
  },
  {
   "cell_type": "markdown",
   "id": "e118c6c8",
   "metadata": {},
   "source": [
    "f(x, W) + (lambda_/2) * np.sum(np.abs(W))"
   ]
  },
  {
   "cell_type": "code",
   "execution_count": 55,
   "id": "478f65c3",
   "metadata": {},
   "outputs": [],
   "source": [
    "def eval_model_reg1(X, y, iterations, alpha=1e-4, lambda_=1e-8, trace=False):\n",
    "    np.random.seed(42)\n",
    "    W = np.random.randn(X.shape[0])\n",
    "    n = X.shape[1]\n",
    "    for i in range(1, iterations+1):\n",
    "        y_pred = np.dot(W, X)\n",
    "        err = calc_mse(y, y_pred)\n",
    "        W -= alpha * (1/n * 2 * np.dot((y_pred - y), X.T) + lambda_ * np.abs(W))\n",
    "        if trace and i % (iterations / 10) == 0:\n",
    "            print(i, W, err)\n",
    "    return W"
   ]
  },
  {
   "cell_type": "code",
   "execution_count": 56,
   "id": "2f71efba",
   "metadata": {},
   "outputs": [
    {
     "name": "stdout",
     "output_type": "stream",
     "text": [
      "500 [56.49487895  5.89947314  1.04054603  5.5270874 ] 25.237558330104108\n",
      "1000 [56.49717505  6.19501568  0.13564839  6.17098435] 24.94708965113865\n",
      "1500 [56.49717514  6.26566811 -0.17872571  6.42518789] 24.910198930618716\n",
      "2000 [56.49717514  6.28928075 -0.29131606  6.51783757] 24.90537530009977\n",
      "2500 [56.49717514  6.2976877  -0.33181608  6.55124739] 24.904733718580054\n",
      "3000 [56.49717514  6.30070921 -0.34639339  6.56327694] 24.90464462507498\n",
      "3500 [56.49717514  6.30179662 -0.35164072  6.56760738] 24.90463093559285\n",
      "4000 [56.49717514  6.30218804 -0.3535296   6.56916621] 24.90462838963693\n",
      "4500 [56.49717514  6.30232894 -0.35420954  6.56972735] 24.904627781805267\n",
      "5000 [56.49717514  6.30237966 -0.3544543   6.56992934] 24.904627602996662\n"
     ]
    }
   ],
   "source": [
    "W = eval_model_reg1(X_st, y, iterations=5000, alpha=1e-2, lambda_=1e-4, trace=True)"
   ]
  },
  {
   "cell_type": "markdown",
   "id": "7a417260",
   "metadata": {},
   "source": [
    "Да, ну его. Как получилась из формулы `eval_model_reg2`, так и не слишком понятно, как получить `eval_model_reg1`"
   ]
  }
 ],
 "metadata": {
  "kernelspec": {
   "display_name": "Python 3 (ipykernel)",
   "language": "python",
   "name": "python3"
  },
  "language_info": {
   "codemirror_mode": {
    "name": "ipython",
    "version": 3
   },
   "file_extension": ".py",
   "mimetype": "text/x-python",
   "name": "python",
   "nbconvert_exporter": "python",
   "pygments_lexer": "ipython3",
   "version": "3.9.7"
  }
 },
 "nbformat": 4,
 "nbformat_minor": 5
}
